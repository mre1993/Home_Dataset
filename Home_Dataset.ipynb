{
 "cells": [
  {
   "cell_type": "code",
   "execution_count": 7,
   "id": "0f2ea51b",
   "metadata": {},
   "outputs": [],
   "source": [
    "import time\n",
    "import pandas as pd\n",
    "import numpy as np\n",
    "from sklearn.preprocessing import StandardScaler\n",
    "from sklearn.model_selection import train_test_split\n",
    "from sklearn.metrics import mean_squared_error\n",
    "import seaborn as sns\n",
    "import  matplotlib.pyplot as plt"
   ]
  },
  {
   "cell_type": "markdown",
   "id": "eaca2aa6",
   "metadata": {},
   "source": [
    "Preprocessing"
   ]
  },
  {
   "cell_type": "code",
   "execution_count": 8,
   "id": "9c8237af",
   "metadata": {},
   "outputs": [],
   "source": [
    "with open('HomeDatasetTehran_R4_2.txt', 'r', encoding='utf-8') as f:\n",
    "    lines = f.readlines()\n",
    "line_item = []\n",
    "abnormal = [1, 3, 30, 33, 34] \n",
    "c = 0\n",
    "for l in lines:\n",
    "    new_line = l.split('\\t')\n",
    "    c_item = len(new_line)\n",
    "    if c_item in abnormal:\n",
    "        c += 1\n",
    "        continue\n",
    "    new_line = new_line[:27]\n",
    "    line_item.append('\\t'.join(new_line))\n",
    "with open('HomeDatasetTehran.txt', 'w', encoding='utf-8') as f:\n",
    "    for line in line_item:\n",
    "        f.write(line+'\\n')       "
   ]
  },
  {
   "cell_type": "code",
   "execution_count": 9,
   "id": "19b7fff8",
   "metadata": {},
   "outputs": [
    {
     "data": {
      "text/html": [
       "<div>\n",
       "<style scoped>\n",
       "    .dataframe tbody tr th:only-of-type {\n",
       "        vertical-align: middle;\n",
       "    }\n",
       "\n",
       "    .dataframe tbody tr th {\n",
       "        vertical-align: top;\n",
       "    }\n",
       "\n",
       "    .dataframe thead th {\n",
       "        text-align: right;\n",
       "    }\n",
       "</style>\n",
       "<table border=\"1\" class=\"dataframe\">\n",
       "  <thead>\n",
       "    <tr style=\"text-align: right;\">\n",
       "      <th></th>\n",
       "      <th>h_type</th>\n",
       "      <th>date</th>\n",
       "      <th>adress</th>\n",
       "      <th>loc</th>\n",
       "      <th>num_floor</th>\n",
       "      <th>unit_per_floor</th>\n",
       "      <th>price</th>\n",
       "      <th>age</th>\n",
       "      <th>statuse</th>\n",
       "      <th>view</th>\n",
       "      <th>...</th>\n",
       "      <th>num_sleep</th>\n",
       "      <th>tel</th>\n",
       "      <th>kitch</th>\n",
       "      <th>service</th>\n",
       "      <th>floor_covering</th>\n",
       "      <th>open</th>\n",
       "      <th>parking</th>\n",
       "      <th>warehouse</th>\n",
       "      <th>balcony</th>\n",
       "      <th>equipment</th>\n",
       "    </tr>\n",
       "  </thead>\n",
       "  <tbody>\n",
       "    <tr>\n",
       "      <th>0</th>\n",
       "      <td>آپارتمان</td>\n",
       "      <td>1402/06/06</td>\n",
       "      <td>تهرانپارس بین رشید و زرین</td>\n",
       "      <td>4</td>\n",
       "      <td>5</td>\n",
       "      <td>2</td>\n",
       "      <td>8,380,000,000 تومان</td>\n",
       "      <td>12</td>\n",
       "      <td>تخلیه</td>\n",
       "      <td>سنگ</td>\n",
       "      <td>...</td>\n",
       "      <td>2</td>\n",
       "      <td>1</td>\n",
       "      <td>MDF</td>\n",
       "      <td>ايراني فرنگي</td>\n",
       "      <td>پارکت</td>\n",
       "      <td>1</td>\n",
       "      <td>0</td>\n",
       "      <td>1</td>\n",
       "      <td>1</td>\n",
       "      <td>شوفاژ_کولر_آسانسور_گاز</td>\n",
       "    </tr>\n",
       "    <tr>\n",
       "      <th>1</th>\n",
       "      <td>آپارتمان</td>\n",
       "      <td>1402/06/08</td>\n",
       "      <td>تهرانپارس خ استخر</td>\n",
       "      <td>4</td>\n",
       "      <td>5</td>\n",
       "      <td>3</td>\n",
       "      <td>8,700,000,000 تومان</td>\n",
       "      <td>11</td>\n",
       "      <td>مسکونی</td>\n",
       "      <td>سنگ</td>\n",
       "      <td>...</td>\n",
       "      <td>2</td>\n",
       "      <td>1</td>\n",
       "      <td>MDF</td>\n",
       "      <td>ايرانی</td>\n",
       "      <td>سراميک</td>\n",
       "      <td>1</td>\n",
       "      <td>1</td>\n",
       "      <td>1</td>\n",
       "      <td>1</td>\n",
       "      <td>شوفاژ_کولر_آسانسور_گاز</td>\n",
       "    </tr>\n",
       "    <tr>\n",
       "      <th>2</th>\n",
       "      <td>آپارتمان</td>\n",
       "      <td>1402/06/13</td>\n",
       "      <td>خواجه عبدالله ك یازدهم</td>\n",
       "      <td>4</td>\n",
       "      <td>4</td>\n",
       "      <td>2</td>\n",
       "      <td>10,500,000,000 تومان</td>\n",
       "      <td>30</td>\n",
       "      <td>اجاره</td>\n",
       "      <td>آجر</td>\n",
       "      <td>...</td>\n",
       "      <td>2</td>\n",
       "      <td>1</td>\n",
       "      <td>MDF</td>\n",
       "      <td>ايراني فرنگي</td>\n",
       "      <td>سراميک</td>\n",
       "      <td>1</td>\n",
       "      <td>1</td>\n",
       "      <td>1</td>\n",
       "      <td>0</td>\n",
       "      <td>شوفاژ_کولر_گاز</td>\n",
       "    </tr>\n",
       "    <tr>\n",
       "      <th>3</th>\n",
       "      <td>آپارتمان</td>\n",
       "      <td>1402/05/28</td>\n",
       "      <td>تهران پارس بلوار پروین خ 218</td>\n",
       "      <td>4</td>\n",
       "      <td>5</td>\n",
       "      <td>3</td>\n",
       "      <td>5,200,000,000 تومان</td>\n",
       "      <td>11</td>\n",
       "      <td>مسکونی</td>\n",
       "      <td>سنگ</td>\n",
       "      <td>...</td>\n",
       "      <td>2</td>\n",
       "      <td>1</td>\n",
       "      <td>MDF</td>\n",
       "      <td>ايرانی</td>\n",
       "      <td>سراميک</td>\n",
       "      <td>1</td>\n",
       "      <td>0</td>\n",
       "      <td>1</td>\n",
       "      <td>0</td>\n",
       "      <td>شوفاژ_کولر_آسانسور_گاز</td>\n",
       "    </tr>\n",
       "    <tr>\n",
       "      <th>4</th>\n",
       "      <td>آپارتمان</td>\n",
       "      <td>1402/06/08</td>\n",
       "      <td>هنگام شمیران نو</td>\n",
       "      <td>4</td>\n",
       "      <td>5</td>\n",
       "      <td>2</td>\n",
       "      <td>9,100,000,000 تومان</td>\n",
       "      <td>4</td>\n",
       "      <td>مسکونی</td>\n",
       "      <td>سنگ</td>\n",
       "      <td>...</td>\n",
       "      <td>3</td>\n",
       "      <td>1</td>\n",
       "      <td>MDF</td>\n",
       "      <td>ايرانی</td>\n",
       "      <td>سراميک</td>\n",
       "      <td>1</td>\n",
       "      <td>1</td>\n",
       "      <td>0</td>\n",
       "      <td>0</td>\n",
       "      <td>شوفاژ_کولر_آسانسور_گاز</td>\n",
       "    </tr>\n",
       "  </tbody>\n",
       "</table>\n",
       "<p>5 rows × 27 columns</p>\n",
       "</div>"
      ],
      "text/plain": [
       "     h_type        date                        adress  loc  num_floor  \\\n",
       "0  آپارتمان  1402/06/06     تهرانپارس بین رشید و زرین    4          5   \n",
       "1  آپارتمان  1402/06/08             تهرانپارس خ استخر    4          5   \n",
       "2  آپارتمان  1402/06/13        خواجه عبدالله ك یازدهم    4          4   \n",
       "3  آپارتمان  1402/05/28  تهران پارس بلوار پروین خ 218    4          5   \n",
       "4  آپارتمان  1402/06/08               هنگام شمیران نو    4          5   \n",
       "\n",
       "  unit_per_floor                 price age statuse view  ... num_sleep  tel  \\\n",
       "0              2   8,380,000,000 تومان  12   تخلیه  سنگ  ...         2    1   \n",
       "1              3   8,700,000,000 تومان  11  مسکونی  سنگ  ...         2    1   \n",
       "2              2  10,500,000,000 تومان  30   اجاره  آجر  ...         2    1   \n",
       "3              3   5,200,000,000 تومان  11  مسکونی  سنگ  ...         2    1   \n",
       "4              2   9,100,000,000 تومان   4  مسکونی  سنگ  ...         3    1   \n",
       "\n",
       "   kitch       service  floor_covering open  parking  warehouse  balcony  \\\n",
       "0    MDF  ايراني فرنگي           پارکت    1        0          1        1   \n",
       "1    MDF        ايرانی          سراميک    1        1          1        1   \n",
       "2    MDF  ايراني فرنگي          سراميک    1        1          1        0   \n",
       "3    MDF        ايرانی          سراميک    1        0          1        0   \n",
       "4    MDF        ايرانی          سراميک    1        1          0        0   \n",
       "\n",
       "                equipment  \n",
       "0  شوفاژ_کولر_آسانسور_گاز  \n",
       "1  شوفاژ_کولر_آسانسور_گاز  \n",
       "2          شوفاژ_کولر_گاز  \n",
       "3  شوفاژ_کولر_آسانسور_گاز  \n",
       "4  شوفاژ_کولر_آسانسور_گاز  \n",
       "\n",
       "[5 rows x 27 columns]"
      ]
     },
     "execution_count": 9,
     "metadata": {},
     "output_type": "execute_result"
    }
   ],
   "source": [
    "df = pd.read_csv(\"HomeDatasetTehran.txt\", delimiter=\"\\t\")\n",
    "df.head()"
   ]
  },
  {
   "cell_type": "code",
   "execution_count": 10,
   "id": "0be2146a",
   "metadata": {},
   "outputs": [
    {
     "data": {
      "text/html": [
       "<div>\n",
       "<style scoped>\n",
       "    .dataframe tbody tr th:only-of-type {\n",
       "        vertical-align: middle;\n",
       "    }\n",
       "\n",
       "    .dataframe tbody tr th {\n",
       "        vertical-align: top;\n",
       "    }\n",
       "\n",
       "    .dataframe thead th {\n",
       "        text-align: right;\n",
       "    }\n",
       "</style>\n",
       "<table border=\"1\" class=\"dataframe\">\n",
       "  <thead>\n",
       "    <tr style=\"text-align: right;\">\n",
       "      <th></th>\n",
       "      <th>h_type</th>\n",
       "      <th>date</th>\n",
       "      <th>adress</th>\n",
       "      <th>loc</th>\n",
       "      <th>num_floor</th>\n",
       "      <th>unit_per_floor</th>\n",
       "      <th>price</th>\n",
       "      <th>age</th>\n",
       "      <th>statuse</th>\n",
       "      <th>view</th>\n",
       "      <th>...</th>\n",
       "      <th>tel</th>\n",
       "      <th>kitch</th>\n",
       "      <th>service</th>\n",
       "      <th>floor_covering</th>\n",
       "      <th>open</th>\n",
       "      <th>parking</th>\n",
       "      <th>warehouse</th>\n",
       "      <th>balcony</th>\n",
       "      <th>equipment</th>\n",
       "      <th>M2</th>\n",
       "    </tr>\n",
       "  </thead>\n",
       "  <tbody>\n",
       "    <tr>\n",
       "      <th>0</th>\n",
       "      <td>آپارتمان</td>\n",
       "      <td>1402/06/06</td>\n",
       "      <td>تهرانپارس بین رشید و زرین</td>\n",
       "      <td>4</td>\n",
       "      <td>5</td>\n",
       "      <td>2</td>\n",
       "      <td>8380000000</td>\n",
       "      <td>12</td>\n",
       "      <td>تخلیه</td>\n",
       "      <td>سنگ</td>\n",
       "      <td>...</td>\n",
       "      <td>1</td>\n",
       "      <td>MDF</td>\n",
       "      <td>ايراني فرنگي</td>\n",
       "      <td>پارکت</td>\n",
       "      <td>1</td>\n",
       "      <td>0</td>\n",
       "      <td>1</td>\n",
       "      <td>1</td>\n",
       "      <td>شوفاژ_کولر_آسانسور_گاز</td>\n",
       "      <td>92087912.087912</td>\n",
       "    </tr>\n",
       "    <tr>\n",
       "      <th>1</th>\n",
       "      <td>آپارتمان</td>\n",
       "      <td>1402/06/08</td>\n",
       "      <td>تهرانپارس خ استخر</td>\n",
       "      <td>4</td>\n",
       "      <td>5</td>\n",
       "      <td>3</td>\n",
       "      <td>8700000000</td>\n",
       "      <td>11</td>\n",
       "      <td>مسکونی</td>\n",
       "      <td>سنگ</td>\n",
       "      <td>...</td>\n",
       "      <td>1</td>\n",
       "      <td>MDF</td>\n",
       "      <td>ايرانی</td>\n",
       "      <td>سراميک</td>\n",
       "      <td>1</td>\n",
       "      <td>1</td>\n",
       "      <td>1</td>\n",
       "      <td>1</td>\n",
       "      <td>شوفاژ_کولر_آسانسور_گاز</td>\n",
       "      <td>72500000.0</td>\n",
       "    </tr>\n",
       "    <tr>\n",
       "      <th>2</th>\n",
       "      <td>آپارتمان</td>\n",
       "      <td>1402/06/13</td>\n",
       "      <td>خواجه عبدالله ك یازدهم</td>\n",
       "      <td>4</td>\n",
       "      <td>4</td>\n",
       "      <td>2</td>\n",
       "      <td>10500000000</td>\n",
       "      <td>30</td>\n",
       "      <td>اجاره</td>\n",
       "      <td>آجر</td>\n",
       "      <td>...</td>\n",
       "      <td>1</td>\n",
       "      <td>MDF</td>\n",
       "      <td>ايراني فرنگي</td>\n",
       "      <td>سراميک</td>\n",
       "      <td>1</td>\n",
       "      <td>1</td>\n",
       "      <td>1</td>\n",
       "      <td>0</td>\n",
       "      <td>شوفاژ_کولر_گاز</td>\n",
       "      <td>105000000.0</td>\n",
       "    </tr>\n",
       "    <tr>\n",
       "      <th>3</th>\n",
       "      <td>آپارتمان</td>\n",
       "      <td>1402/05/28</td>\n",
       "      <td>تهران پارس بلوار پروین خ 218</td>\n",
       "      <td>4</td>\n",
       "      <td>5</td>\n",
       "      <td>3</td>\n",
       "      <td>5200000000</td>\n",
       "      <td>11</td>\n",
       "      <td>مسکونی</td>\n",
       "      <td>سنگ</td>\n",
       "      <td>...</td>\n",
       "      <td>1</td>\n",
       "      <td>MDF</td>\n",
       "      <td>ايرانی</td>\n",
       "      <td>سراميک</td>\n",
       "      <td>1</td>\n",
       "      <td>0</td>\n",
       "      <td>1</td>\n",
       "      <td>0</td>\n",
       "      <td>شوفاژ_کولر_آسانسور_گاز</td>\n",
       "      <td>68421052.631579</td>\n",
       "    </tr>\n",
       "    <tr>\n",
       "      <th>4</th>\n",
       "      <td>آپارتمان</td>\n",
       "      <td>1402/06/08</td>\n",
       "      <td>هنگام شمیران نو</td>\n",
       "      <td>4</td>\n",
       "      <td>5</td>\n",
       "      <td>2</td>\n",
       "      <td>9100000000</td>\n",
       "      <td>4</td>\n",
       "      <td>مسکونی</td>\n",
       "      <td>سنگ</td>\n",
       "      <td>...</td>\n",
       "      <td>1</td>\n",
       "      <td>MDF</td>\n",
       "      <td>ايرانی</td>\n",
       "      <td>سراميک</td>\n",
       "      <td>1</td>\n",
       "      <td>1</td>\n",
       "      <td>0</td>\n",
       "      <td>0</td>\n",
       "      <td>شوفاژ_کولر_آسانسور_گاز</td>\n",
       "      <td>65000000.0</td>\n",
       "    </tr>\n",
       "  </tbody>\n",
       "</table>\n",
       "<p>5 rows × 28 columns</p>\n",
       "</div>"
      ],
      "text/plain": [
       "     h_type        date                        adress  loc  num_floor  \\\n",
       "0  آپارتمان  1402/06/06     تهرانپارس بین رشید و زرین    4          5   \n",
       "1  آپارتمان  1402/06/08             تهرانپارس خ استخر    4          5   \n",
       "2  آپارتمان  1402/06/13        خواجه عبدالله ك یازدهم    4          4   \n",
       "3  آپارتمان  1402/05/28  تهران پارس بلوار پروین خ 218    4          5   \n",
       "4  آپارتمان  1402/06/08               هنگام شمیران نو    4          5   \n",
       "\n",
       "  unit_per_floor        price age statuse view  ... tel  kitch       service  \\\n",
       "0              2   8380000000  12   تخلیه  سنگ  ...   1    MDF  ايراني فرنگي   \n",
       "1              3   8700000000  11  مسکونی  سنگ  ...   1    MDF        ايرانی   \n",
       "2              2  10500000000  30   اجاره  آجر  ...   1    MDF  ايراني فرنگي   \n",
       "3              3   5200000000  11  مسکونی  سنگ  ...   1    MDF        ايرانی   \n",
       "4              2   9100000000   4  مسکونی  سنگ  ...   1    MDF        ايرانی   \n",
       "\n",
       "   floor_covering  open parking  warehouse  balcony               equipment  \\\n",
       "0           پارکت     1       0          1        1  شوفاژ_کولر_آسانسور_گاز   \n",
       "1          سراميک     1       1          1        1  شوفاژ_کولر_آسانسور_گاز   \n",
       "2          سراميک     1       1          1        0          شوفاژ_کولر_گاز   \n",
       "3          سراميک     1       0          1        0  شوفاژ_کولر_آسانسور_گاز   \n",
       "4          سراميک     1       1          0        0  شوفاژ_کولر_آسانسور_گاز   \n",
       "\n",
       "                M2  \n",
       "0  92087912.087912  \n",
       "1       72500000.0  \n",
       "2      105000000.0  \n",
       "3  68421052.631579  \n",
       "4       65000000.0  \n",
       "\n",
       "[5 rows x 28 columns]"
      ]
     },
     "execution_count": 10,
     "metadata": {},
     "output_type": "execute_result"
    }
   ],
   "source": [
    "for idx, value in enumerate(df['price']):\n",
    "    if isinstance(value, str):\n",
    "        num_part = ''.join(filter(str.isdigit, value))\n",
    "        df.at[idx, 'price']= int(num_part)\n",
    "df['M2'] = df.price/df.area \n",
    "df.head()"
   ]
  },
  {
   "cell_type": "code",
   "execution_count": 11,
   "id": "3e826950",
   "metadata": {},
   "outputs": [],
   "source": [
    "df['price'] = pd.to_numeric(df['price'], errors='coerce')\n",
    "df['age'] = pd.to_numeric(df['age'], errors='coerce')"
   ]
  },
  {
   "cell_type": "code",
   "execution_count": 12,
   "id": "f2fd443c",
   "metadata": {},
   "outputs": [
    {
     "data": {
      "text/plain": [
       "adress\n",
       "هروی خ ساقدوش خ شقاقی                   1\n",
       "هنگام نرسیده به ك 12 مركزی              1\n",
       "بزرگراه رسالت خ حسینی                   1\n",
       "هنگام شمیران نو خ غفاری                 1\n",
       "تهرانپارس خ 194 شرقی                    1\n",
       "                                       ..\n",
       "مجیدیه شمالی میدان ملت                  1\n",
       "شهید عراقی نرسیده به خ كشوری            1\n",
       "تهرانپارس بلوار پروین بین بلوار و131    1\n",
       "تهرانپارس خ 162 شرقی                    1\n",
       "شمس اباد خ هدایتی                       1\n",
       "Name: count, Length: 455, dtype: int64"
      ]
     },
     "execution_count": 12,
     "metadata": {},
     "output_type": "execute_result"
    }
   ],
   "source": [
    "address = df['adress'].value_counts()\n",
    "address[address == 1]"
   ]
  },
  {
   "cell_type": "code",
   "execution_count": 13,
   "id": "e45b46d4",
   "metadata": {},
   "outputs": [
    {
     "data": {
      "text/plain": [
       "array(['تهرانپارس', 'استخر', 'خواجه عبدالله', 'پروین', 'شمیران نو',\n",
       "       'مجیدیه', 'بنی هاشم', 'نیروی دریایی', 'میدان شاهد', 'شریعتی',\n",
       "       'هروی', 'فرجام', 'تهران پارس', 'جشنواره', 'حكیمیه خ لریجانی',\n",
       "       'سراج', 'شمس اباد', 'حكیمیه سازمان آب', 'نیروی دریائی', 'رسالت',\n",
       "       'اتوبان بابایی', 'حكیمیه خ پیام', 'شمس آباد', 'خواجه عبداله',\n",
       "       'حكیمیه خ سازمان آب', 'دلاوران', 'حكیمیه فاز 2', 'دماوند', 'هنگام',\n",
       "       'حكیمیه خ والفجر', 'لویزان', 'حكیمیه پیام', 'حكیمیه بلوار ساحل',\n",
       "       'قنات كوثر بلوار مطهری', 'شهید عراقی', 'حكیمیه سحر',\n",
       "       'حكیمیه بلواربابائیان خ امام حسین', 'حكیمیه شهرك والفجر',\n",
       "       'حكیمیه تقاطع سازمان آب و بهار', 'حكیمیه فاز یك خ گلریز',\n",
       "       'حكیمیه نگارستان', 'حكیمیه فاز یك', 'حكیمیه خ بهار سازمان آب',\n",
       "       'حكیمیه كوچه گلریز', 'قنات كوثر كوی سوم', 'حكیمیه گلریز',\n",
       "       'بزرگراه بابایی شهرك كوثر', 'حكیمیه 15 متری شیرازی',\n",
       "       'حكیمیه بلوار فجر', 'شهیدعراقی', 'حكیمیه نرسیده به نگارستان',\n",
       "       'حكیمیه فاز 3 خ بهشت', 'شمس آّباد بلوار بیژن', 'حكیمیه نهالستان',\n",
       "       'حكیمیه فاز 1', 'قنات كوثر كوچه ششم', 'قنات كوثر بلواراستقلال',\n",
       "       'حكیمیه فاز 3', 'قنات كوثر خ مسجد', 'حكیمیه نرسیده به خ یاس',\n",
       "       'حكیمیه فاز 2 دانشگاه كوچه بشارت', 'ایت', 'قنات كوثر ك 2',\n",
       "       'حكیمیه خ اركیده', 'تهارنپارس', 'قنات كوثر خ 8'], dtype=object)"
      ]
     },
     "execution_count": 13,
     "metadata": {},
     "output_type": "execute_result"
    }
   ],
   "source": [
    "main_address = ['استخر','پروین','خواجه عبدلله','شمیران نو','بنی هاشم','نیروی دریایی','میدان شاهد'\n",
    ",'فرجام','مجیدیه','تهران پارس','جشنواره','هروی','حکیمیه','شمس اباد','اتوبان بابایی','شمس آباد'                \n",
    ",'دلاوران','دماوند','سراج','رسالت','لویزان','خواجه عبدالله'               \n",
    ",'تهرانپارس','شهید عراقی','شهیدعراقی','شمس أباد','هنگام','تهارنپارس'\n",
    ",'قنات کوثر','نیروی دریائی','ایت','خواجه عبداله','شریعتی']\n",
    "def replace_address(s):\n",
    "    for each_address in main_address:\n",
    "        if each_address in s:\n",
    "            s = each_address\n",
    "    return s\n",
    "df['adress'] = df['adress'].apply(replace_address)\n",
    "df['adress'].unique()        "
   ]
  },
  {
   "cell_type": "code",
   "execution_count": 14,
   "id": "b7f08ea0",
   "metadata": {},
   "outputs": [
    {
     "data": {
      "text/plain": [
       "{'تهرانپارس': 'تهرانپارس',\n",
       " 'استخر': 'استخر',\n",
       " 'خواجه عبدالله': 'خواجه عبدالله',\n",
       " 'پروین': 'پروین',\n",
       " 'شمیران نو': 'شمیران نو',\n",
       " 'مجیدیه': 'مجیدیه',\n",
       " 'بنی هاشم': 'بنی هاشم',\n",
       " 'نیروی دریایی': 'نیروی دریایی',\n",
       " 'میدان شاهد': 'میدان شاهد',\n",
       " 'شریعتی': 'شریعتی',\n",
       " 'هروی': 'هروی',\n",
       " 'فرجام': 'فرجام',\n",
       " 'تهران پارس': 'تهران پارس',\n",
       " 'جشنواره': 'جشنواره',\n",
       " 'حكیمیه خ لریجانی': 'حكیمیه خ لریجانی',\n",
       " 'سراج': 'سراج',\n",
       " 'شمس اباد': 'شمس اباد',\n",
       " 'حكیمیه سازمان آب': 'حكیمیه سازمان آب',\n",
       " 'نیروی دریائی': 'نیروی دریائی',\n",
       " 'رسالت': 'رسالت',\n",
       " 'اتوبان بابایی': 'اتوبان بابایی',\n",
       " 'حكیمیه خ پیام': 'حكیمیه خ پیام',\n",
       " 'شمس آباد': 'شمس آباد',\n",
       " 'خواجه عبداله': 'خواجه عبداله',\n",
       " 'حكیمیه خ سازمان آب': 'حكیمیه خ سازمان آب',\n",
       " 'دلاوران': 'دلاوران',\n",
       " 'حكیمیه فاز 2': 'حكیمیه فاز 2',\n",
       " 'دماوند': 'دماوند',\n",
       " 'هنگام': 'هنگام',\n",
       " 'حكیمیه خ والفجر': 'حكیمیه خ والفجر',\n",
       " 'لویزان': 'لویزان',\n",
       " 'حكیمیه پیام': 'حكیمیه پیام',\n",
       " 'حكیمیه بلوار ساحل': 'حكیمیه بلوار ساحل',\n",
       " 'قنات كوثر بلوار مطهری': 'قنات كوثر بلوار مطهری',\n",
       " 'شهید عراقی': 'شهید عراقی',\n",
       " 'حكیمیه سحر': 'حكیمیه سحر',\n",
       " 'حكیمیه بلواربابائیان خ امام حسین': 'حكیمیه بلواربابائیان خ امام حسین',\n",
       " 'حكیمیه شهرك والفجر': 'حكیمیه شهرك والفجر',\n",
       " 'حكیمیه تقاطع سازمان آب و بهار': 'حكیمیه تقاطع سازمان آب و بهار',\n",
       " 'حكیمیه فاز یك خ گلریز': 'حكیمیه فاز یك خ گلریز',\n",
       " 'حكیمیه نگارستان': 'حكیمیه نگارستان',\n",
       " 'حكیمیه فاز یك': 'حكیمیه فاز یك',\n",
       " 'حكیمیه خ بهار سازمان آب': 'حكیمیه خ بهار سازمان آب',\n",
       " 'حكیمیه كوچه گلریز': 'حكیمیه كوچه گلریز',\n",
       " 'قنات كوثر كوی سوم': 'قنات كوثر كوی سوم',\n",
       " 'حكیمیه گلریز': 'حكیمیه گلریز',\n",
       " 'بزرگراه بابایی شهرك كوثر': 'بزرگراه بابایی شهرك كوثر',\n",
       " 'حكیمیه 15 متری شیرازی': 'حكیمیه 15 متری شیرازی',\n",
       " 'حكیمیه بلوار فجر': 'حكیمیه بلوار فجر',\n",
       " 'شهیدعراقی': 'شهیدعراقی',\n",
       " 'حكیمیه نرسیده به نگارستان': 'حكیمیه نرسیده به نگارستان',\n",
       " 'حكیمیه فاز 3 خ بهشت': 'حكیمیه فاز 3 خ بهشت',\n",
       " 'شمس آّباد بلوار بیژن': 'شمس آّباد بلوار بیژن',\n",
       " 'حكیمیه نهالستان': 'حكیمیه نهالستان',\n",
       " 'حكیمیه فاز 1': 'حكیمیه فاز 1',\n",
       " 'قنات كوثر كوچه ششم': 'قنات كوثر كوچه ششم',\n",
       " 'قنات كوثر بلواراستقلال': 'قنات كوثر بلواراستقلال',\n",
       " 'حكیمیه فاز 3': 'حكیمیه فاز 3',\n",
       " 'قنات كوثر خ مسجد': 'قنات كوثر خ مسجد',\n",
       " 'حكیمیه نرسیده به خ یاس': 'حكیمیه نرسیده به خ یاس',\n",
       " 'حكیمیه فاز 2 دانشگاه كوچه بشارت': 'حكیمیه فاز 2 دانشگاه كوچه بشارت',\n",
       " 'ایت': 'ایت',\n",
       " 'قنات كوثر ك 2': 'قنات كوثر ك 2',\n",
       " 'حكیمیه خ اركیده': 'حكیمیه خ اركیده',\n",
       " 'تهارنپارس': 'تهارنپارس',\n",
       " 'قنات كوثر خ 8': 'قنات كوثر خ 8'}"
      ]
     },
     "execution_count": 14,
     "metadata": {},
     "output_type": "execute_result"
    }
   ],
   "source": [
    "correct_address = {address:address for address in df['adress']}\n",
    "correct_address"
   ]
  },
  {
   "cell_type": "code",
   "execution_count": 15,
   "id": "c89fa440",
   "metadata": {},
   "outputs": [
    {
     "data": {
      "text/plain": [
       "array(['تهرانپارس', 'استخر', 'خواجه عبدالله', 'پروین', 'شمیران نو',\n",
       "       'مجیدیه', 'بنی هاشم', 'نیروی دریایی', 'میدان شاهد', 'شریعتی',\n",
       "       'هروی', 'فرجام', 'جشنواره', 'حكیمیه خ لریجانی', 'سراج',\n",
       "       'شمس أباد', 'حكیمیه سازمان آب', 'رسالت', 'اتوبان بابایی',\n",
       "       'حكیمیه خ پیام', 'حكیمیه خ سازمان آب', 'دلاوران', 'حكیمیه فاز 2',\n",
       "       'دماوند', 'هنگام', 'حكیمیه خ والفجر', 'لویزان', 'حكیمیه پیام',\n",
       "       'حكیمیه بلوار ساحل', 'قنات كوثر بلوار مطهری', 'شهید عراقی',\n",
       "       'حكیمیه سحر', 'حكیمیه بلواربابائیان خ امام حسین',\n",
       "       'حكیمیه شهرك والفجر', 'حكیمیه تقاطع سازمان آب و بهار',\n",
       "       'حكیمیه فاز یك خ گلریز', 'حكیمیه نگارستان', 'حكیمیه فاز یك',\n",
       "       'حكیمیه خ بهار سازمان آب', 'حكیمیه كوچه گلریز',\n",
       "       'قنات كوثر كوی سوم', 'حكیمیه گلریز', 'حكیمیه 15 متری شیرازی',\n",
       "       'حكیمیه بلوار فجر', 'شهیدعراقی', 'حكیمیه نرسیده به نگارستان',\n",
       "       'حكیمیه فاز 3 خ بهشت', 'شمس آّباد بلوار بیژن', 'حكیمیه نهالستان',\n",
       "       'حكیمیه فاز 1', 'قنات كوثر كوچه ششم', 'قنات كوثر بلواراستقلال',\n",
       "       'حكیمیه فاز 3', 'قنات كوثر خ مسجد', 'حكیمیه نرسیده به خ یاس',\n",
       "       'حكیمیه فاز 2 دانشگاه كوچه بشارت', 'ایت', 'قنات كوثر ك 2',\n",
       "       'حكیمیه خ اركیده', 'قنات كوثر خ 8'], dtype=object)"
      ]
     },
     "execution_count": 15,
     "metadata": {},
     "output_type": "execute_result"
    }
   ],
   "source": [
    "correct_address['تهارنپارس'] = 'تهرانپارس'\n",
    "correct_address['شمس آباد'] = 'شمس أباد'\n",
    "correct_address['شمس اباد'] = 'شمس أباد'\n",
    "correct_address['شمس أباد'] = 'شمس أباد'\n",
    "correct_address['خواجه عبداله'] = 'خواجه عبدالله'\n",
    "correct_address['نیروی دریائی'] = 'نیروی دریایی'\n",
    "correct_address['تهران پارس'] = 'تهرانپارس'\n",
    "correct_address['بزرگراه بابایی شهرك كوثر'] = 'اتوبان بابایی'\n",
    "df['adress'] = df['adress'].map(correct_address)\n",
    "df['adress'].unique()"
   ]
  },
  {
   "cell_type": "code",
   "execution_count": 16,
   "id": "c5f6db37",
   "metadata": {},
   "outputs": [
    {
     "data": {
      "text/plain": [
       "array(['5', '2', '4', 'همكف', '3', '1', 'مختلف', '7', 'زیرهمكف', '11',\n",
       "       '6', '13', '8', '1و2و4و5', '1و2', '9', '14', '1و3', '10', '3و4',\n",
       "       '12', '18'], dtype=object)"
      ]
     },
     "execution_count": 16,
     "metadata": {},
     "output_type": "execute_result"
    }
   ],
   "source": [
    "df.floor.unique()\n",
    "replace_floor = {floor:floor for floor in df.floor}\n",
    "df.floor = df.floor.fillna(0)\n",
    "df.floor.unique()"
   ]
  },
  {
   "cell_type": "code",
   "execution_count": 17,
   "metadata": {},
   "outputs": [
    {
     "data": {
      "text/plain": [
       "array([ 5,  2,  4,  0,  3,  1,  7, -1, 11,  6, 13,  8, 15, 12,  9, 14, 10,\n",
       "       34, 18])"
      ]
     },
     "execution_count": 17,
     "metadata": {},
     "output_type": "execute_result"
    }
   ],
   "source": [
    "replace_floor = {'5': '5',\n",
    " '2': '2',\n",
    " '4': '4',\n",
    " 'همكف': '0',\n",
    " '3': '3',\n",
    " '1': '1',\n",
    " 'مختلف': '2',\n",
    " '7': '7',\n",
    " 'زیرهمكف': '-1',\n",
    " '11': '11',\n",
    " '6': '6',\n",
    " '13': '13',\n",
    " '8': '8',\n",
    " '1و2و4و5': '15',\n",
    " '1و2': '12',\n",
    " '9': '9',\n",
    " '14': '14',\n",
    " '1و3': '13',\n",
    " '10': '10',\n",
    " '3و4': '34',\n",
    " '12': '12',\n",
    " '18': '18'}\n",
    "df['floor'] = df['floor'].map(replace_floor)\n",
    "df['floor'] = df['floor'].astype(int)\n",
    "df.floor.unique()"
   ]
  },
  {
   "cell_type": "code",
   "execution_count": 18,
   "id": "588d8691",
   "metadata": {},
   "outputs": [
    {
     "data": {
      "text/html": [
       "<div>\n",
       "<style scoped>\n",
       "    .dataframe tbody tr th:only-of-type {\n",
       "        vertical-align: middle;\n",
       "    }\n",
       "\n",
       "    .dataframe tbody tr th {\n",
       "        vertical-align: top;\n",
       "    }\n",
       "\n",
       "    .dataframe thead th {\n",
       "        text-align: right;\n",
       "    }\n",
       "</style>\n",
       "<table border=\"1\" class=\"dataframe\">\n",
       "  <thead>\n",
       "    <tr style=\"text-align: right;\">\n",
       "      <th></th>\n",
       "      <th>h_type</th>\n",
       "      <th>date</th>\n",
       "      <th>adress</th>\n",
       "      <th>loc</th>\n",
       "      <th>num_floor</th>\n",
       "      <th>unit_per_floor</th>\n",
       "      <th>price</th>\n",
       "      <th>age</th>\n",
       "      <th>statuse</th>\n",
       "      <th>view</th>\n",
       "      <th>...</th>\n",
       "      <th>underground</th>\n",
       "      <th>Heating</th>\n",
       "      <th>fan cooler</th>\n",
       "      <th>user</th>\n",
       "      <th>patio</th>\n",
       "      <th>package</th>\n",
       "      <th>chiller</th>\n",
       "      <th>cooler</th>\n",
       "      <th>gas</th>\n",
       "      <th>گاز</th>\n",
       "    </tr>\n",
       "  </thead>\n",
       "  <tbody>\n",
       "    <tr>\n",
       "      <th>0</th>\n",
       "      <td>آپارتمان</td>\n",
       "      <td>1402/06/06</td>\n",
       "      <td>تهرانپارس</td>\n",
       "      <td>4</td>\n",
       "      <td>5</td>\n",
       "      <td>2</td>\n",
       "      <td>8380000000</td>\n",
       "      <td>12.0</td>\n",
       "      <td>تخلیه</td>\n",
       "      <td>سنگ</td>\n",
       "      <td>...</td>\n",
       "      <td>0</td>\n",
       "      <td>0</td>\n",
       "      <td>1</td>\n",
       "      <td>0</td>\n",
       "      <td>0</td>\n",
       "      <td>0</td>\n",
       "      <td>0</td>\n",
       "      <td>0</td>\n",
       "      <td>1</td>\n",
       "      <td>1</td>\n",
       "    </tr>\n",
       "    <tr>\n",
       "      <th>1</th>\n",
       "      <td>آپارتمان</td>\n",
       "      <td>1402/06/08</td>\n",
       "      <td>استخر</td>\n",
       "      <td>4</td>\n",
       "      <td>5</td>\n",
       "      <td>3</td>\n",
       "      <td>8700000000</td>\n",
       "      <td>11.0</td>\n",
       "      <td>مسکونی</td>\n",
       "      <td>سنگ</td>\n",
       "      <td>...</td>\n",
       "      <td>0</td>\n",
       "      <td>0</td>\n",
       "      <td>1</td>\n",
       "      <td>0</td>\n",
       "      <td>0</td>\n",
       "      <td>0</td>\n",
       "      <td>0</td>\n",
       "      <td>0</td>\n",
       "      <td>1</td>\n",
       "      <td>1</td>\n",
       "    </tr>\n",
       "    <tr>\n",
       "      <th>2</th>\n",
       "      <td>آپارتمان</td>\n",
       "      <td>1402/06/13</td>\n",
       "      <td>خواجه عبدالله</td>\n",
       "      <td>4</td>\n",
       "      <td>4</td>\n",
       "      <td>2</td>\n",
       "      <td>10500000000</td>\n",
       "      <td>30.0</td>\n",
       "      <td>اجاره</td>\n",
       "      <td>آجر</td>\n",
       "      <td>...</td>\n",
       "      <td>0</td>\n",
       "      <td>0</td>\n",
       "      <td>1</td>\n",
       "      <td>0</td>\n",
       "      <td>0</td>\n",
       "      <td>0</td>\n",
       "      <td>0</td>\n",
       "      <td>0</td>\n",
       "      <td>1</td>\n",
       "      <td>1</td>\n",
       "    </tr>\n",
       "    <tr>\n",
       "      <th>3</th>\n",
       "      <td>آپارتمان</td>\n",
       "      <td>1402/05/28</td>\n",
       "      <td>پروین</td>\n",
       "      <td>4</td>\n",
       "      <td>5</td>\n",
       "      <td>3</td>\n",
       "      <td>5200000000</td>\n",
       "      <td>11.0</td>\n",
       "      <td>مسکونی</td>\n",
       "      <td>سنگ</td>\n",
       "      <td>...</td>\n",
       "      <td>0</td>\n",
       "      <td>0</td>\n",
       "      <td>1</td>\n",
       "      <td>0</td>\n",
       "      <td>0</td>\n",
       "      <td>0</td>\n",
       "      <td>0</td>\n",
       "      <td>0</td>\n",
       "      <td>1</td>\n",
       "      <td>1</td>\n",
       "    </tr>\n",
       "    <tr>\n",
       "      <th>4</th>\n",
       "      <td>آپارتمان</td>\n",
       "      <td>1402/06/08</td>\n",
       "      <td>شمیران نو</td>\n",
       "      <td>4</td>\n",
       "      <td>5</td>\n",
       "      <td>2</td>\n",
       "      <td>9100000000</td>\n",
       "      <td>4.0</td>\n",
       "      <td>مسکونی</td>\n",
       "      <td>سنگ</td>\n",
       "      <td>...</td>\n",
       "      <td>0</td>\n",
       "      <td>0</td>\n",
       "      <td>1</td>\n",
       "      <td>0</td>\n",
       "      <td>0</td>\n",
       "      <td>0</td>\n",
       "      <td>0</td>\n",
       "      <td>0</td>\n",
       "      <td>1</td>\n",
       "      <td>1</td>\n",
       "    </tr>\n",
       "  </tbody>\n",
       "</table>\n",
       "<p>5 rows × 43 columns</p>\n",
       "</div>"
      ],
      "text/plain": [
       "     h_type        date         adress  loc  num_floor unit_per_floor  \\\n",
       "0  آپارتمان  1402/06/06      تهرانپارس    4          5              2   \n",
       "1  آپارتمان  1402/06/08          استخر    4          5              3   \n",
       "2  آپارتمان  1402/06/13  خواجه عبدالله    4          4              2   \n",
       "3  آپارتمان  1402/05/28          پروین    4          5              3   \n",
       "4  آپارتمان  1402/06/08      شمیران نو    4          5              2   \n",
       "\n",
       "         price   age statuse view  ... underground  Heating  fan cooler  user  \\\n",
       "0   8380000000  12.0   تخلیه  سنگ  ...           0        0           1     0   \n",
       "1   8700000000  11.0  مسکونی  سنگ  ...           0        0           1     0   \n",
       "2  10500000000  30.0   اجاره  آجر  ...           0        0           1     0   \n",
       "3   5200000000  11.0  مسکونی  سنگ  ...           0        0           1     0   \n",
       "4   9100000000   4.0  مسکونی  سنگ  ...           0        0           1     0   \n",
       "\n",
       "   patio  package  chiller  cooler  gas گاز  \n",
       "0      0        0        0       0    1   1  \n",
       "1      0        0        0       0    1   1  \n",
       "2      0        0        0       0    1   1  \n",
       "3      0        0        0       0    1   1  \n",
       "4      0        0        0       0    1   1  \n",
       "\n",
       "[5 rows x 43 columns]"
      ]
     },
     "execution_count": 18,
     "metadata": {},
     "output_type": "execute_result"
    }
   ],
   "source": [
    "df_equipment = df[\"equipment\"].str.get_dummies(sep='_')\n",
    "df_equipmentColumnsName = ['elevator', 'pool', 'jacuzzi', 'yard', 'private yard', 'underground',\n",
    "      'Heating', 'fan cooler', 'user', 'patio', 'package', 'chiller', 'cooler', 'gas']\n",
    "df_equipment = df_equipment.rename(columns=dict(zip(df_equipment.columns, df_equipmentColumnsName)))\n",
    "df = pd.concat([df, df_equipment], axis=1)\n",
    "df.head()"
   ]
  },
  {
   "cell_type": "code",
   "execution_count": 19,
   "id": "a2f8d3fe",
   "metadata": {},
   "outputs": [
    {
     "data": {
      "text/plain": [
       "{'شخصي': 829,\n",
       " 'قولنامه اي': 67,\n",
       " 'تعاوني': 41,\n",
       " 'دردست اقدام': 16,\n",
       " 'مشاع': 5,\n",
       " 'اوقافي': 4,\n",
       " 'وکالتي': 1}"
      ]
     },
     "execution_count": 19,
     "metadata": {},
     "output_type": "execute_result"
    }
   ],
   "source": [
    "dict(df.doc_status.value_counts())"
   ]
  },
  {
   "cell_type": "code",
   "execution_count": 20,
   "id": "7cc07b58",
   "metadata": {},
   "outputs": [
    {
     "data": {
      "text/plain": [
       "array([12., 11., 30.,  4., nan,  8., 17., 20.,  5.,  6., 16.,  2.,  9.,\n",
       "        7., 18.,  3.,  1., 22., 13., 10., 15., 25., 19., 21., 26., 23.,\n",
       "       14., 24., 27., 29., 28.])"
      ]
     },
     "execution_count": 20,
     "metadata": {},
     "output_type": "execute_result"
    }
   ],
   "source": [
    "replace_dict1 = {'نوساز':0}\n",
    "df['age'] = df['age'].replace(replace_dict1)\n",
    "df.age.unique()"
   ]
  },
  {
   "cell_type": "code",
   "execution_count": 21,
   "id": "5222d2a6",
   "metadata": {},
   "outputs": [
    {
     "name": "stdout",
     "output_type": "stream",
     "text": [
      "<class 'pandas.core.frame.DataFrame'>\n",
      "RangeIndex: 963 entries, 0 to 962\n",
      "Data columns (total 43 columns):\n",
      " #   Column          Non-Null Count  Dtype  \n",
      "---  ------          --------------  -----  \n",
      " 0   h_type          963 non-null    object \n",
      " 1   date            963 non-null    object \n",
      " 2   adress          963 non-null    object \n",
      " 3   loc             963 non-null    int64  \n",
      " 4   num_floor       963 non-null    int64  \n",
      " 5   unit_per_floor  963 non-null    object \n",
      " 6   price           963 non-null    int64  \n",
      " 7   age             830 non-null    float64\n",
      " 8   statuse         963 non-null    object \n",
      " 9   view            963 non-null    object \n",
      " 10  doc_status      963 non-null    object \n",
      " 11  north           963 non-null    int64  \n",
      " 12  sought          963 non-null    int64  \n",
      " 13  west            963 non-null    int64  \n",
      " 14  east            963 non-null    int64  \n",
      " 15  floor           963 non-null    int32  \n",
      " 16  area            963 non-null    int64  \n",
      " 17  num_sleep       963 non-null    int64  \n",
      " 18  tel             963 non-null    int64  \n",
      " 19  kitch           963 non-null    object \n",
      " 20  service         963 non-null    object \n",
      " 21  floor_covering  963 non-null    object \n",
      " 22  open            963 non-null    int64  \n",
      " 23  parking         963 non-null    int64  \n",
      " 24  warehouse       963 non-null    int64  \n",
      " 25  balcony         963 non-null    int64  \n",
      " 26  equipment       963 non-null    object \n",
      " 27  M2              963 non-null    object \n",
      " 28  elevator        963 non-null    int64  \n",
      " 29  pool            963 non-null    int64  \n",
      " 30  jacuzzi         963 non-null    int64  \n",
      " 31  yard            963 non-null    int64  \n",
      " 32  private yard    963 non-null    int64  \n",
      " 33  underground     963 non-null    int64  \n",
      " 34  Heating         963 non-null    int64  \n",
      " 35  fan cooler      963 non-null    int64  \n",
      " 36  user            963 non-null    int64  \n",
      " 37  patio           963 non-null    int64  \n",
      " 38  package         963 non-null    int64  \n",
      " 39  chiller         963 non-null    int64  \n",
      " 40  cooler          963 non-null    int64  \n",
      " 41  gas             963 non-null    int64  \n",
      " 42  گاز             963 non-null    int64  \n",
      "dtypes: float64(1), int32(1), int64(29), object(12)\n",
      "memory usage: 319.9+ KB\n"
     ]
    }
   ],
   "source": [
    "df.info()"
   ]
  },
  {
   "cell_type": "code",
   "execution_count": 22,
   "id": "b023c6a5",
   "metadata": {},
   "outputs": [],
   "source": [
    "df.drop(['گاز'], axis=1,inplace=True)"
   ]
  },
  {
   "cell_type": "markdown",
   "id": "f3742f50",
   "metadata": {},
   "source": [
    "Working With Outliers"
   ]
  },
  {
   "cell_type": "code",
   "execution_count": 23,
   "id": "2c3b3e30",
   "metadata": {},
   "outputs": [
    {
     "data": {
      "text/plain": [
       "{'whiskers': [<matplotlib.lines.Line2D at 0x2568d68b700>,\n",
       "  <matplotlib.lines.Line2D at 0x2568d68b9a0>],\n",
       " 'caps': [<matplotlib.lines.Line2D at 0x2568d68bc40>,\n",
       "  <matplotlib.lines.Line2D at 0x2568d68bee0>],\n",
       " 'boxes': [<matplotlib.lines.Line2D at 0x2568d68b460>],\n",
       " 'medians': [<matplotlib.lines.Line2D at 0x2568d6cc1c0>],\n",
       " 'fliers': [<matplotlib.lines.Line2D at 0x2568d6cc460>],\n",
       " 'means': []}"
      ]
     },
     "execution_count": 23,
     "metadata": {},
     "output_type": "execute_result"
    },
    {
     "data": {
      "image/png": "[encoded data removed]",
      "text/plain": [
       "<Figure size 640x480 with 1 Axes>"
      ]
     },
     "metadata": {},
     "output_type": "display_data"
    }
   ],
   "source": [
    "plt.boxplot(df.M2, vert=False)"
   ]
  },
  {
   "cell_type": "code",
   "execution_count": 24,
   "id": "338e5810",
   "metadata": {},
   "outputs": [
    {
     "data": {
      "image/png": "[encoded data removed]",
      "text/plain": [
       "<Figure size 640x480 with 1 Axes>"
      ]
     },
     "metadata": {},
     "output_type": "display_data"
    }
   ],
   "source": [
    "plt.scatter(df.price, df.area)\n",
    "plt.xlabel('price')\n",
    "plt.ylabel('area')\n",
    "plt.show()"
   ]
  },
  {
   "cell_type": "code",
   "execution_count": 25,
   "id": "2040b8bb",
   "metadata": {},
   "outputs": [
    {
     "name": "stdout",
     "output_type": "stream",
     "text": [
      "Lower limit for area:-2.50\n",
      "Upper limit for area:177.50\n",
      "Lower limit for price:-5,825,000,000.0\n",
      "Upper limit for area:21,975,000,000.0\n"
     ]
    }
   ],
   "source": [
    "def lower_upper(x):\n",
    "    Q1 = np.percentile(x, 25)\n",
    "    Q3 = np.percentile(x, 75)\n",
    "    IQR = Q3 - Q1\n",
    "    lower = Q1 - 1.5*IQR\n",
    "    upper = Q3 + 1.5*IQR\n",
    "    return lower, upper\n",
    "lower_area , upper_area = lower_upper(df['area'])\n",
    "lower_price, upper_price = lower_upper(df['price'])\n",
    "print(f\"Lower limit for area:{lower_area:0.2f}\")\n",
    "print(f\"Upper limit for area:{upper_area:0.2f}\")\n",
    "print(f\"Lower limit for price:{lower_price:,}\")\n",
    "print(f\"Upper limit for area:{upper_price:,}\")"
   ]
  },
  {
   "cell_type": "code",
   "execution_count": 26,
   "id": "df3b4816",
   "metadata": {},
   "outputs": [
    {
     "name": "stdout",
     "output_type": "stream",
     "text": [
      "Number of area outliers: 35\n",
      "Number of price outliers: 33\n",
      "Number of outliers: 48\n"
     ]
    }
   ],
   "source": [
    "area_outliers = np.where(df['area'] > upper_area)\n",
    "price_outliers = np.where(df['price'] > upper_price)\n",
    "total_outliers = np.union1d(area_outliers, price_outliers)\n",
    "print(f\"Number of area outliers: {len(df.iloc[area_outliers])}\")\n",
    "print(f\"Number of price outliers: {len(df.iloc[price_outliers])}\")\n",
    "print(f\"Number of outliers: {len(df.iloc[total_outliers])}\")"
   ]
  },
  {
   "cell_type": "code",
   "execution_count": 27,
   "id": "0c1709e8",
   "metadata": {},
   "outputs": [
    {
     "data": {
      "text/plain": [
       "count           950.0\n",
       "unique          563.0\n",
       "top       100000000.0\n",
       "freq             43.0\n",
       "Name: M2, dtype: float64"
      ]
     },
     "execution_count": 27,
     "metadata": {},
     "output_type": "execute_result"
    }
   ],
   "source": [
    "\n",
    "\n",
    "Q1 = df.M2.quantile(0.25)\n",
    "Q3 = df.M2.quantile(0.75)\n",
    "IQR = Q3 - Q1\n",
    "upper_cap = Q3 + 1.5*IQR\n",
    "lower_cap = Q1 - 1.5*IQR\n",
    "BM = (lower_cap <= df.M2) & (df.M2 <= upper_cap)\n",
    "df = df[BM]\n",
    "df.M2.describe()"
   ]
  },
  {
   "cell_type": "code",
   "execution_count": 28,
   "id": "c63dfdef",
   "metadata": {},
   "outputs": [
    {
     "data": {
      "text/plain": [
       "{'whiskers': [<matplotlib.lines.Line2D at 0x2568d7f6e90>,\n",
       "  <matplotlib.lines.Line2D at 0x2568d7f7130>],\n",
       " 'caps': [<matplotlib.lines.Line2D at 0x2568d7f73d0>,\n",
       "  <matplotlib.lines.Line2D at 0x2568d7f7670>],\n",
       " 'boxes': [<matplotlib.lines.Line2D at 0x2568d7f6bf0>],\n",
       " 'medians': [<matplotlib.lines.Line2D at 0x2568d7f7910>],\n",
       " 'fliers': [<matplotlib.lines.Line2D at 0x2568d7f7bb0>],\n",
       " 'means': []}"
      ]
     },
     "execution_count": 28,
     "metadata": {},
     "output_type": "execute_result"
    },
    {
     "data": {
      "image/png": "[encoded data removed]",
      "text/plain": [
       "<Figure size 640x480 with 1 Axes>"
      ]
     },
     "metadata": {},
     "output_type": "display_data"
    }
   ],
   "source": [
    "bm_upper = df.M2 > upper_cap\n",
    "df.M2[bm_upper] = upper_cap\n",
    "plt.boxplot(df.M2, vert=False)"
   ]
  },
  {
   "cell_type": "code",
   "execution_count": 29,
   "id": "ccf77840",
   "metadata": {},
   "outputs": [
    {
     "data": {
      "text/plain": [
       "{'whiskers': [<matplotlib.lines.Line2D at 0x2568f8b65f0>,\n",
       "  <matplotlib.lines.Line2D at 0x2568f8b6890>],\n",
       " 'caps': [<matplotlib.lines.Line2D at 0x2568f8b6b30>,\n",
       "  <matplotlib.lines.Line2D at 0x2568f8b6dd0>],\n",
       " 'boxes': [<matplotlib.lines.Line2D at 0x2568f8b6350>],\n",
       " 'medians': [<matplotlib.lines.Line2D at 0x2568f8b7070>],\n",
       " 'fliers': [<matplotlib.lines.Line2D at 0x2568f8b7310>],\n",
       " 'means': []}"
      ]
     },
     "execution_count": 29,
     "metadata": {},
     "output_type": "execute_result"
    },
    {
     "data": {
      "image/png": "[encoded data removed]",
      "text/plain": [
       "<Figure size 640x480 with 1 Axes>"
      ]
     },
     "metadata": {},
     "output_type": "display_data"
    }
   ],
   "source": [
    "plt.boxplot(df.area, vert=False)"
   ]
  },
  {
   "cell_type": "code",
   "execution_count": 30,
   "id": "be059ade",
   "metadata": {},
   "outputs": [
    {
     "data": {
      "image/png": "[encoded data removed]",
      "text/plain": [
       "<Figure size 640x480 with 1 Axes>"
      ]
     },
     "metadata": {},
     "output_type": "display_data"
    }
   ],
   "source": [
    "from sklearn.cluster import DBSCAN\n",
    "features = ['price', 'area']\n",
    "scale = StandardScaler()\n",
    "df[features] = scale.fit_transform(df[features])\n",
    "dbscan = DBSCAN(eps=0.5, min_samples=5)\n",
    "df['Cluster'] = dbscan.fit_predict(df[features])\n",
    "outliers = df[df['Cluster'] == -1]\n",
    "df.drop(columns=['Cluster'], inplace=True)\n",
    "plt.scatter(df.price, df.area)\n",
    "plt.xlabel('price')\n",
    "plt.ylabel('area')\n",
    "plt.show()"
   ]
  },
  {
   "cell_type": "code",
   "execution_count": 40,
   "id": "55270b05",
   "metadata": {},
   "outputs": [
    {
     "data": {
      "text/plain": [
       "<seaborn.axisgrid.JointGrid at 0x25691477a00>"
      ]
     },
     "execution_count": 40,
     "metadata": {},
     "output_type": "execute_result"
    },
    {
     "data": {
      "image/png": "[encoded data removed]",
      "text/plain": [
       "<Figure size 600x600 with 3 Axes>"
      ]
     },
     "metadata": {},
     "output_type": "display_data"
    }
   ],
   "source": [
    "sns.jointplot(x='area',y='M2',kind='hex',data=df)"
   ]
  },
  {
   "cell_type": "code",
   "execution_count": 41,
   "id": "be33a020",
   "metadata": {},
   "outputs": [
    {
     "data": {
      "text/plain": [
       "<seaborn.axisgrid.JointGrid at 0x256918956c0>"
      ]
     },
     "execution_count": 41,
     "metadata": {},
     "output_type": "execute_result"
    },
    {
     "data": {
      "image/png": "[encoded data removed]",
      "text/plain": [
       "<Figure size 600x600 with 3 Axes>"
      ]
     },
     "metadata": {},
     "output_type": "display_data"
    }
   ],
   "source": [
    "sns.jointplot(x='warehouse',y='M2',kind='hex',data=df)"
   ]
  },
  {
   "cell_type": "code",
   "execution_count": 42,
   "id": "63cbdcf1",
   "metadata": {},
   "outputs": [
    {
     "data": {
      "text/plain": [
       "<seaborn.axisgrid.JointGrid at 0x256918475e0>"
      ]
     },
     "execution_count": 42,
     "metadata": {},
     "output_type": "execute_result"
    },
    {
     "data": {
      "image/png": "[encoded data removed]",
      "text/plain": [
       "<Figure size 600x600 with 3 Axes>"
      ]
     },
     "metadata": {},
     "output_type": "display_data"
    }
   ],
   "source": [
    "sns.jointplot(x='price',y='M2',kind='hex',data=df)"
   ]
  },
  {
   "cell_type": "code",
   "execution_count": 31,
   "id": "07f4cad7",
   "metadata": {},
   "outputs": [],
   "source": [
    "x = df[['balcony','warehouse','parking','num_sleep','price','age','num_floor','loc','area','price','north','west', 'east']]\n",
    "y = df.loc[:,['M2']].values\n",
    "x_train, x_test, y_train, y_test = train_test_split(x, y, test_size=0.2, random_state=42)"
   ]
  },
  {
   "cell_type": "code",
   "execution_count": 32,
   "id": "dc2f1b26",
   "metadata": {},
   "outputs": [],
   "source": [
    "sc = StandardScaler()\n",
    "x_train_scale = sc.fit_transform(x_train)\n",
    "x_test_scale = sc.fit_transform(x_test)"
   ]
  },
  {
   "cell_type": "markdown",
   "id": "165eb456",
   "metadata": {},
   "source": [
    "Prediction"
   ]
  },
  {
   "cell_type": "code",
   "execution_count": null,
   "id": "a02e6688",
   "metadata": {},
   "outputs": [
    {
     "name": "stdout",
     "output_type": "stream",
     "text": [
      "score train = 0.8456520821145397\n",
      "score test = 0.8260069791453787\n",
      "MSE = 113149211201977.02\n"
     ]
    }
   ],
   "source": [
    "y_pred = sgd_reg.predict(x_test_scale)\n",
    "print('score train =', sgd_reg.score(x_train_scale, y_train))\n",
    "print('score test =', sgd_reg.score(x_test_scale, y_test))\n",
    "mse = mean_squared_error(y_test, y_pred)\n",
    "print('MSE =', mse)"
   ]
  },
  {
   "cell_type": "code",
   "execution_count": null,
   "id": "e0c8cea5",
   "metadata": {},
   "outputs": [
    {
     "name": "stdout",
     "output_type": "stream",
     "text": [
      "score train = 0.8573195887240823\n",
      "score test = 0.8529370916744488\n",
      "MSE = 95636319160228.02\n"
     ]
    }
   ],
   "source": [
    "from sklearn.linear_model import LinearRegression\n",
    "LR = LinearRegression().fit(x_train_scale, y_train)\n",
    "print('score train =', LR.score(x_train_scale, y_train))\n",
    "print('score test =', LR.score(x_test_scale, y_test))\n",
    "y_pred = LR.predict(x_test_scale)\n",
    "mse = mean_squared_error(y_test, y_pred)\n",
    "print('MSE =', mse)"
   ]
  },
  {
   "cell_type": "code",
   "execution_count": null,
   "id": "fa7477e6",
   "metadata": {},
   "outputs": [
    {
     "name": "stderr",
     "output_type": "stream",
     "text": [
      "f:\\2014\\machine learning\\env\\lib\\site-packages\\sklearn\\base.py:1151: DataConversionWarning: A column-vector y was passed when a 1d array was expected. Please change the shape of y to (n_samples,), for example using ravel().\n",
      "  return fit_method(estimator, *args, **kwargs)\n"
     ]
    },
    {
     "name": "stdout",
     "output_type": "stream",
     "text": [
      "score train = 0.8894631408367268\n",
      "score test = 0.7491612266097003\n",
      "MSE = 163122688534147.72\n"
     ]
    }
   ],
   "source": [
    "from sklearn.ensemble import RandomForestRegressor\n",
    "rmr = RandomForestRegressor(n_estimators=400, max_features=0.8, random_state=42, min_samples_split=50, max_samples=0.7)\n",
    "rmr.fit(x_train_scale, y_train)\n",
    "print('score train =', rmr.score(x_train_scale, y_train))\n",
    "print('score test =', rmr.score(x_test_scale, y_test))\n",
    "y_pred = rmr.predict(x_test_scale)\n",
    "mse = mean_squared_error(y_test, y_pred)\n",
    "print('MSE =', mse)"
   ]
  },
  {
   "cell_type": "code",
   "execution_count": null,
   "id": "6bc8ecb9",
   "metadata": {},
   "outputs": [
    {
     "name": "stdout",
     "output_type": "stream",
     "text": [
      "score train = 0.8079124736340183\n",
      "score test = 0.8125388002886885\n",
      "MSE = 121907687872342.56\n"
     ]
    }
   ],
   "source": [
    "from sklearn.linear_model import RANSACRegressor\n",
    "RR = RANSACRegressor()\n",
    "RR.fit(x_train_scale, y_train)\n",
    "print('score train =', RR.score(x_train_scale, y_train))\n",
    "print('score test =', RR.score(x_test_scale, y_test))\n",
    "y_pred = RR.predict(x_test_scale)\n",
    "mse = mean_squared_error(y_test, y_pred)\n",
    "print('MSE =', mse)"
   ]
  }
 ],
 "metadata": {
  "kernelspec": {
   "display_name": "Python 3 (ipykernel)",
   "language": "python",
   "name": "python3"
  },
  "language_info": {
   "codemirror_mode": {
    "name": "ipython",
    "version": 3
   },
   "file_extension": ".py",
   "mimetype": "text/x-python",
   "name": "python",
   "nbconvert_exporter": "python",
   "pygments_lexer": "ipython3",
   "version": "3.10.11"
  }
 },
 "nbformat": 4,
 "nbformat_minor": 5
}
